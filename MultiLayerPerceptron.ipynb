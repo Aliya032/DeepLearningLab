{
 "cells": [
  {
   "cell_type": "markdown",
   "metadata": {},
   "source": [
    "# Multi Layer Perceptron"
   ]
  },
  {
   "cell_type": "code",
   "execution_count": 5,
   "metadata": {},
   "outputs": [
    {
     "name": "stdout",
     "output_type": "stream",
     "text": [
      "Training model with activation function relu and optimizer SGD...\n",
      "4/4 [==============================] - 0s 5ms/step - loss: 0.6627 - accuracy: 0.6228\n",
      "Test loss: 0.663, Test accuracy: 0.623\n",
      "\n",
      "Training model with activation function relu and optimizer Adam...\n",
      "4/4 [==============================] - 0s 4ms/step - loss: 0.3454 - accuracy: 0.9123\n",
      "Test loss: 0.345, Test accuracy: 0.912\n",
      "\n",
      "Training model with activation function relu and optimizer RMSprop...\n",
      "4/4 [==============================] - 0s 5ms/step - loss: 0.1770 - accuracy: 0.9386\n",
      "Test loss: 0.177, Test accuracy: 0.939\n",
      "\n",
      "Training model with activation function sigmoid and optimizer SGD...\n",
      "4/4 [==============================] - 0s 4ms/step - loss: 0.6336 - accuracy: 0.6228\n",
      "Test loss: 0.634, Test accuracy: 0.623\n",
      "\n",
      "Training model with activation function sigmoid and optimizer Adam...\n",
      "4/4 [==============================] - 0s 1ms/step - loss: 0.1876 - accuracy: 0.9386\n",
      "Test loss: 0.188, Test accuracy: 0.939\n",
      "\n",
      "Training model with activation function sigmoid and optimizer RMSprop...\n",
      "4/4 [==============================] - 0s 4ms/step - loss: 0.1894 - accuracy: 0.9298\n",
      "Test loss: 0.189, Test accuracy: 0.930\n",
      "\n",
      "Training model with activation function tanh and optimizer SGD...\n",
      "4/4 [==============================] - 0s 3ms/step - loss: 0.6637 - accuracy: 0.6228\n",
      "Test loss: 0.664, Test accuracy: 0.623\n",
      "\n",
      "Training model with activation function tanh and optimizer Adam...\n",
      "4/4 [==============================] - 0s 4ms/step - loss: 0.3358 - accuracy: 0.9123\n",
      "Test loss: 0.336, Test accuracy: 0.912\n",
      "\n",
      "Training model with activation function tanh and optimizer RMSprop...\n",
      "4/4 [==============================] - 0s 4ms/step - loss: 0.2129 - accuracy: 0.9298\n",
      "Test loss: 0.213, Test accuracy: 0.930\n",
      "\n"
     ]
    }
   ],
   "source": [
    "# importing necessary libraries \n",
    "import tensorflow as tf\n",
    "from tensorflow.keras.models import Sequential\n",
    "from tensorflow.keras.layers import Dense, Dropout\n",
    "from tensorflow.keras.optimizers import SGD, Adam, RMSprop\n",
    "from tensorflow.keras.activations import relu, sigmoid, tanh\n",
    "\n",
    "# load the data\n",
    "from sklearn.datasets import load_breast_cancer\n",
    "from sklearn.model_selection import train_test_split\n",
    "data = load_breast_cancer()\n",
    "X_train, X_test, y_train, y_test = train_test_split(data.data, data.target, test_size = 0.2, random_state = 42)\n",
    "\n",
    "\n",
    "# defining the model\n",
    "def create_model(activation_func, optimizer):\n",
    "    model = Sequential([\n",
    "        Dense(64, input_dim = X_train.shape[1], activation = activation_func),\n",
    "        Dropout(0.5),\n",
    "        Dense(32, activation = activation_func),\n",
    "        Dropout(0.5),\n",
    "        Dense(1, activation = 'sigmoid')\n",
    "    ])\n",
    "\n",
    "    model.compile(loss = 'binary_crossentropy', optimizer = optimizer, metrics = ['accuracy'])\n",
    "\n",
    "    return model\n",
    "\n",
    "#defining the activation functions and optimizers to try\n",
    "activation_funcs = [relu, sigmoid, tanh]\n",
    "optimizers = [tf.keras.optimizers.legacy.SGD(learning_rate=0.01), tf.keras.optimizers.legacy.Adam(learning_rate = 0.001), tf.keras.optimizers.legacy.RMSprop(learning_rate=0.001)]\n",
    "\n",
    "#training and testing the models with different activation functions and optimizers\n",
    "for activation_func in activation_funcs:\n",
    "    for optimizer in optimizers:\n",
    "        model = create_model(activation_func, optimizer)\n",
    "        \n",
    "\n",
    "        print(f'Training model with activation function {activation_func.__name__} and optimizer {optimizer.__class__.__name__}...')\n",
    "\n",
    "\n",
    "        model.fit(X_train, y_train, epochs = 50, batch_size = 16, verbose = 0)\n",
    "\n",
    "        loss, accuracy = model.evaluate(X_test, y_test)\n",
    "\n",
    "        print(f'Test loss: {loss:.3f}, Test accuracy: {accuracy:.3f}\\n')"
   ]
  }
 ],
 "metadata": {
  "kernelspec": {
   "display_name": "Python 3",
   "language": "python",
   "name": "python3"
  },
  "language_info": {
   "codemirror_mode": {
    "name": "ipython",
    "version": 3
   },
   "file_extension": ".py",
   "mimetype": "text/x-python",
   "name": "python",
   "nbconvert_exporter": "python",
   "pygments_lexer": "ipython3",
   "version": "3.10.8"
  }
 },
 "nbformat": 4,
 "nbformat_minor": 2
}
