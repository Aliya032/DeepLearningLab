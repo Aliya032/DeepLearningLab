{
 "cells": [
  {
   "cell_type": "markdown",
   "metadata": {},
   "source": [
    "# Split & Merge"
   ]
  },
  {
   "cell_type": "code",
   "execution_count": 5,
   "metadata": {},
   "outputs": [
    {
     "name": "stdout",
     "output_type": "stream",
     "text": [
      "WARNING:tensorflow:From C:\\Users\\hassa\\AppData\\Roaming\\Python\\Python310\\site-packages\\keras\\src\\losses.py:2976: The name tf.losses.sparse_softmax_cross_entropy is deprecated. Please use tf.compat.v1.losses.sparse_softmax_cross_entropy instead.\n",
      "\n"
     ]
    }
   ],
   "source": [
    "import numpy as np\n",
    "import tensorflow as tf"
   ]
  },
  {
   "cell_type": "code",
   "execution_count": 6,
   "metadata": {},
   "outputs": [],
   "source": [
    "# get user input for tensor dimensions\n",
    "rows = int(input('Enter number of rows: '))\n",
    "cols = int(input('Enter the number of columns: '))"
   ]
  },
  {
   "cell_type": "code",
   "execution_count": 7,
   "metadata": {},
   "outputs": [
    {
     "name": "stdout",
     "output_type": "stream",
     "text": [
      "Original Tensor: \n",
      " [[1. 2.]\n",
      " [3. 4.]]\n"
     ]
    }
   ],
   "source": [
    "# create a tensor with random values \n",
    "tensor = np.random.rand(rows,cols)\n",
    "for i in range(rows):\n",
    "    for j in range(cols):\n",
    "        tensor[i][j] = float(input(f\"Enter value for [{i}][{j}]: \"))\n",
    "\n",
    "# print the tensor\n",
    "print('Original Tensor: \\n', tensor)"
   ]
  },
  {
   "cell_type": "code",
   "execution_count": 8,
   "metadata": {},
   "outputs": [],
   "source": [
    "# get user input for split axis\n",
    "split_axis = int(input('Enter the axis to split along (0 for rows, 1 for columns): '))"
   ]
  },
  {
   "cell_type": "code",
   "execution_count": 14,
   "metadata": {},
   "outputs": [
    {
     "name": "stdout",
     "output_type": "stream",
     "text": [
      "Split tensors: \n",
      " [array([[1., 2.]]), array([[3., 4.]])]\n"
     ]
    }
   ],
   "source": [
    "# split the tensor along the specified axis\n",
    "tensor_split = np.split(tensor,2, axis= split_axis)\n",
    "\n",
    "# print the split tensors:\n",
    "print('Split tensors: \\n', tensor_split)"
   ]
  },
  {
   "cell_type": "code",
   "execution_count": 13,
   "metadata": {},
   "outputs": [
    {
     "name": "stdout",
     "output_type": "stream",
     "text": [
      "Merged tensor: \n",
      " [[1. 2.]\n",
      " [3. 4.]]\n"
     ]
    }
   ],
   "source": [
    "# merge the split tensors along the same axis \n",
    "tensor_merged = np.concatenate(tensor_split, axis = split_axis)\n",
    "\n",
    "# print the merged tensor\n",
    "print('Merged tensor: \\n', tensor_merged)"
   ]
  }
 ],
 "metadata": {
  "kernelspec": {
   "display_name": "Python 3",
   "language": "python",
   "name": "python3"
  },
  "language_info": {
   "codemirror_mode": {
    "name": "ipython",
    "version": 3
   },
   "file_extension": ".py",
   "mimetype": "text/x-python",
   "name": "python",
   "nbconvert_exporter": "python",
   "pygments_lexer": "ipython3",
   "version": "3.10.8"
  }
 },
 "nbformat": 4,
 "nbformat_minor": 2
}
